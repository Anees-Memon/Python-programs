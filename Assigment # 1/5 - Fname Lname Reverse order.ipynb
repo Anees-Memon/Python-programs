{
 "cells": [
  {
   "cell_type": "code",
   "execution_count": 4,
   "id": "5c7cccaa",
   "metadata": {},
   "outputs": [
    {
     "name": "stdout",
     "output_type": "stream",
     "text": [
      "Input your First Name : Anees\n",
      "Input your Last Name : memon\n",
      "memon Anees\n"
     ]
    }
   ],
   "source": [
    "firstname = input(\"Input your First Name : \")\n",
    "lastname = input(\"Input your Last Name : \")\n",
    "print ( lastname + \" \" + firstname)"
   ]
  },
  {
   "cell_type": "code",
   "execution_count": null,
   "id": "845042c8",
   "metadata": {},
   "outputs": [],
   "source": []
  }
 ],
 "metadata": {
  "kernelspec": {
   "display_name": "Python 3 (ipykernel)",
   "language": "python",
   "name": "python3"
  },
  "language_info": {
   "codemirror_mode": {
    "name": "ipython",
    "version": 3
   },
   "file_extension": ".py",
   "mimetype": "text/x-python",
   "name": "python",
   "nbconvert_exporter": "python",
   "pygments_lexer": "ipython3",
   "version": "3.9.7"
  }
 },
 "nbformat": 4,
 "nbformat_minor": 5
}
